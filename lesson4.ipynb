{
 "cells": [
  {
   "cell_type": "code",
   "execution_count": 1,
   "metadata": {},
   "outputs": [
    {
     "data": {
      "application/javascript": "if (window.IPython && IPython.notebook.kernel) IPython.notebook.kernel.execute('jovian.utils.jupyter.get_notebook_name_saved = lambda: \"' + IPython.notebook.notebook_name + '\"')",
      "text/plain": [
       "<IPython.core.display.Javascript object>"
      ]
     },
     "metadata": {},
     "output_type": "display_data"
    },
    {
     "name": "stdout",
     "output_type": "stream",
     "text": [
      "0: [1, 4]\n",
      "1: [0, 2, 3, 4]\n",
      "2: [1, 3]\n",
      "3: [1, 2, 4]\n",
      "4: [0, 1, 3]\n",
      "([3, 1, 2, 4, 0], [2, 1, 1, 0, 1], [1, 3, 3, None, 3])\n"
     ]
    }
   ],
   "source": [
    "import jovian\n",
    "\n",
    "num_nodes=5\n",
    "edges= [(0,1),(0,4),(1,2),(1,3),(1,4),(2,3),(3,4)]\n",
    "\n",
    "\n",
    "class Graph:\n",
    "    def __init__(self, num_nodes, edges):\n",
    "        self.num_nodes=num_nodes\n",
    "        self.data= [[] for _ in range(num_nodes)]\n",
    "        for v1,v2 in edges:\n",
    "            self.data[v1].append(v2)\n",
    "            self.data[v2].append(v1)\n",
    "    def __repr__(self):\n",
    "        return \"\\n\".join([ \"{}: {}\".format(n,neighbors) for n, neighbors in enumerate(self.data)])\n",
    "    def __str__(self):\n",
    "        return self.__repr__()\n",
    "    \n",
    "graph1=Graph(num_nodes,edges)\n",
    "print(graph1)\n",
    "\n",
    "#BFS Algorithm\n",
    "\n",
    "def bfs(graph, root):\n",
    "    queue=[]\n",
    "    discovered = [False]*len(graph.data)\n",
    "    distance= [None]*len(graph.data)\n",
    "    parent=[None]*len(graph.data)\n",
    "    \n",
    "    discovered[root]=True\n",
    "    queue.append(root)\n",
    "    distance[root]=0\n",
    "    idx=0\n",
    "    \n",
    "    while idx<len(queue):\n",
    "        #dequeue\n",
    "        current= queue[idx]\n",
    "        idx += 1\n",
    "        \n",
    "        #check all edges of current\n",
    "        for node in graph.data[current]:\n",
    "            if not discovered[node]:\n",
    "                distance[node]=1+distance[current]\n",
    "                parent[node]=current\n",
    "                discovered[node]=True\n",
    "                queue.append(node)\n",
    "    return queue,distance,parent\n",
    "\n",
    "x=bfs(graph1,3)\n",
    "print(x)\n",
    "\n"
   ]
  }
 ],
 "metadata": {
  "kernelspec": {
   "display_name": "Python 3",
   "language": "python",
   "name": "python3"
  },
  "language_info": {
   "codemirror_mode": {
    "name": "ipython",
    "version": 3
   },
   "file_extension": ".py",
   "mimetype": "text/x-python",
   "name": "python",
   "nbconvert_exporter": "python",
   "pygments_lexer": "ipython3",
   "version": "3.11.4"
  }
 },
 "nbformat": 4,
 "nbformat_minor": 2
}
