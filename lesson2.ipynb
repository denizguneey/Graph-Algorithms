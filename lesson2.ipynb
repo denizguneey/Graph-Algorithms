{
 "cells": [
  {
   "cell_type": "code",
   "execution_count": 32,
   "metadata": {},
   "outputs": [
    {
     "name": "stdout",
     "output_type": "stream",
     "text": [
      "5 7\n",
      "v1: 0 v2 1\n",
      "v1: 0 v2 4\n",
      "v1: 1 v2 2\n",
      "v1: 1 v2 3\n",
      "v1: 1 v2 4\n",
      "v1: 2 v2 3\n",
      "v1: 3 v2 4\n",
      "[[1, 4], [0, 2, 3, 4], [1, 3], [1, 2, 4], [0, 1, 3]]\n"
     ]
    }
   ],
   "source": [
    "import jovian\n",
    "'''\n",
    "x=[0]*10\n",
    "x[0]=1\n",
    "x[1]=2\n",
    "print(x)\n",
    "\n",
    "y=list(range(10))\n",
    "print(y)\n",
    "\n",
    "a=[[] for x in range(10)]\n",
    "a[0].append(5)\n",
    "print(a)\n",
    "'''\n",
    "#Defining the graph\n",
    "num_nodes=5\n",
    "edges= [(0,1),(0,4),(1,2),(1,3),(1,4),(2,3),(3,4)]\n",
    "print(num_nodes,len(edges))\n",
    "\n",
    "for v1, v2 in edges:\n",
    "    print('v1:',v1, 'v2', v2)\n",
    "    \n",
    "#Neighbors of graph\n",
    "class Graph:\n",
    "    def __init__(self, num_nodes, edges):\n",
    "        self.num_nodes=num_nodes\n",
    "        self.data= [[] for _ in range(num_nodes)]\n",
    "        for v1,v2 in edges:\n",
    "            self.data[v1].append(v2)\n",
    "            self.data[v2].append(v1)\n",
    "\n",
    "graph1=Graph(num_nodes,edges)\n",
    "x=graph1.data\n",
    "print(x)\n"
   ]
  }
 ],
 "metadata": {
  "kernelspec": {
   "display_name": "Python 3",
   "language": "python",
   "name": "python3"
  },
  "language_info": {
   "codemirror_mode": {
    "name": "ipython",
    "version": 3
   },
   "file_extension": ".py",
   "mimetype": "text/x-python",
   "name": "python",
   "nbconvert_exporter": "python",
   "pygments_lexer": "ipython3",
   "version": "3.11.4"
  }
 },
 "nbformat": 4,
 "nbformat_minor": 2
}
