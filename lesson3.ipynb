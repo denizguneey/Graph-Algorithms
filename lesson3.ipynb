{
 "cells": [
  {
   "cell_type": "code",
   "execution_count": 1,
   "metadata": {},
   "outputs": [
    {
     "data": {
      "application/javascript": "if (window.IPython && IPython.notebook.kernel) IPython.notebook.kernel.execute('jovian.utils.jupyter.get_notebook_name_saved = lambda: \"' + IPython.notebook.notebook_name + '\"')",
      "text/plain": [
       "<IPython.core.display.Javascript object>"
      ]
     },
     "metadata": {},
     "output_type": "display_data"
    },
    {
     "name": "stdout",
     "output_type": "stream",
     "text": [
      "5 7\n",
      "v1: 0 v2 1\n",
      "v1: 0 v2 4\n",
      "v1: 1 v2 2\n",
      "v1: 1 v2 3\n",
      "v1: 1 v2 4\n",
      "v1: 2 v2 3\n",
      "v1: 3 v2 4\n",
      "0: [1, 4]\n",
      "1: [0, 2, 3, 4]\n",
      "2: [1, 3]\n",
      "3: [1, 2, 4]\n",
      "4: [0, 1, 3]\n",
      "['0: [1, 4]', '1: [0, 2, 3, 4]', '2: [1, 3]', '3: [1, 2, 4]', '4: [0, 1, 3]']\n"
     ]
    }
   ],
   "source": [
    "\n",
    "import jovian\n",
    "\n",
    "#Defining the graph\n",
    "num_nodes=5\n",
    "edges= [(0,1),(0,4),(1,2),(1,3),(1,4),(2,3),(3,4)]\n",
    "print(num_nodes,len(edges))\n",
    "\n",
    "for v1, v2 in edges:\n",
    "    print('v1:',v1, 'v2', v2)\n",
    "    \n",
    "#Neighbors of graph\n",
    "class Graph:\n",
    "    def __init__(self, num_nodes, edges):\n",
    "        self.num_nodes=num_nodes\n",
    "        self.data= [[] for _ in range(num_nodes)]\n",
    "        for v1,v2 in edges:\n",
    "            self.data[v1].append(v2)\n",
    "            self.data[v2].append(v1)\n",
    "\n",
    "#Enumeration of graph neighborhoods\n",
    "    def __repr__(self):\n",
    "        return \"\\n\".join([ \"{}: {}\".format(n,neighbors) for n, neighbors in enumerate(self.data)])\n",
    "    def __str__(self):\n",
    "        return self.__repr__()\n",
    "\n",
    "graph1=Graph(num_nodes,edges)\n",
    "print(graph1)\n",
    "\n",
    "y=[ \"{}: {}\".format(n,neighbors) for n, neighbors in enumerate(graph1.data)]\n",
    "print(y)\n",
    "\n",
    "\n",
    "#for i, value in enumerate([5,3,4,1]):\n",
    "#    print(i, value)\n"
   ]
  }
 ],
 "metadata": {
  "kernelspec": {
   "display_name": "Python 3",
   "language": "python",
   "name": "python3"
  },
  "language_info": {
   "codemirror_mode": {
    "name": "ipython",
    "version": 3
   },
   "file_extension": ".py",
   "mimetype": "text/x-python",
   "name": "python",
   "nbconvert_exporter": "python",
   "pygments_lexer": "ipython3",
   "version": "3.11.4"
  }
 },
 "nbformat": 4,
 "nbformat_minor": 2
}
